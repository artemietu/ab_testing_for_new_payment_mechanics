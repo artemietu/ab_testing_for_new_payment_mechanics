{
 "cells": [
  {
   "cell_type": "markdown",
   "id": "751d96d3-caef-4597-aadb-2f692183ee30",
   "metadata": {},
   "source": [
    "# A/B Testing for New Payment Mechanics"
   ]
  },
  {
   "cell_type": "markdown",
   "id": "8fe5f9ab-a526-4ffc-8b22-565380d2cb90",
   "metadata": {},
   "source": [
    "## Introduction"
   ]
  },
  {
   "cell_type": "markdown",
   "id": "64472c3b-d7cb-452e-b91e-9213bd659418",
   "metadata": {},
   "source": [
    "EduPro is an online educational platform that offers a wide range of courses and micro-learning tasks for students worldwide. To increase monetisation efficiency, the platform’s product team launched an experiment testing a new payment mechanic for a selected group of users. This A/B test was designed to determine whether the new mechanic leads to an improvement in key financial and behavioural metrics."
   ]
  },
  {
   "cell_type": "markdown",
   "id": "db07ccaa-6508-4d30-b437-c4503c9b6404",
   "metadata": {},
   "source": [
    "## Goal"
   ]
  },
  {
   "cell_type": "markdown",
   "id": "719ced7e-4e04-4369-82f2-79317f017f58",
   "metadata": {},
   "source": [
    "To determine whether the new payment mechanic should be launched for all users by analysing metrics."
   ]
  },
  {
   "cell_type": "markdown",
   "id": "b85e85ce-2b60-42cd-beca-817bf8d19f7d",
   "metadata": {},
   "source": [
    "## Objectives"
   ]
  },
  {
   "cell_type": "markdown",
   "id": "175f1edc-0e05-481a-88d7-838ec7744339",
   "metadata": {},
   "source": [
    "The key objectives of this project are:\n",
    "\n",
    "1. **Identify the key metrics** for evaluating the experiment.\n",
    "2. **Compare metric** values between the control and pilot groups.\n",
    "3. **Test** whether observed differences are statistically significant.\n",
    "4. **Implement automated recalculation of metrics** using additional incoming user data.\n",
    "5. **Visualize metric distributions** for easier interpretation."
   ]
  },
  {
   "cell_type": "markdown",
   "id": "aa62ee9d-c586-4e06-8afe-4beb650312fa",
   "metadata": {},
   "source": [
    "## Data description"
   ]
  },
  {
   "cell_type": "markdown",
   "id": "52b2a7d7-793e-4e47-a8a2-32996be00513",
   "metadata": {},
   "source": [
    "The dataset consists of four CSV files provided to analyse the results of the A/B test. Each file contains user-level information collected during the experiment window:\n",
    " - groups.csv – Contains user IDs and their assignment to either the control (A) or test (B) group at the time of the experiment launch.\n",
    " - groups_add.csv – Contains user IDs who were assigned to groups two days after the initial assignment (delayed inclusion).\n",
    " - active_studs.csv – Contains the IDs of users who were active (logged into the platform) during the experiment period.\n",
    " - checks.csv – Contains the IDs of users and the amount of money (rev) they paid during the experiment period.\n"
   ]
  },
  {
   "cell_type": "markdown",
   "id": "160080f9-6ad6-4669-be2e-75427ce1cd1b",
   "metadata": {},
   "source": [
    "## Libraries used"
   ]
  },
  {
   "cell_type": "markdown",
   "id": "3be006a1-4238-477d-b88f-06585499e57b",
   "metadata": {},
   "source": [
    "The following libraries are used throughout this project for data processing and visualization."
   ]
  },
  {
   "cell_type": "code",
   "execution_count": 1,
   "id": "2e164b1a-2bca-4739-90cb-b88449c0628c",
   "metadata": {},
   "outputs": [],
   "source": [
    "import pandas as pd\n",
    "import matplotlib.pyplot as plt\n",
    "import seaborn as sns\n",
    "from scipy.stats import normaltest\n",
    "from statsmodels.stats.proportion import proportions_ztest\n",
    "from scipy.stats import levene\n",
    "from scipy.stats import ks_2samp"
   ]
  },
  {
   "cell_type": "markdown",
   "id": "08b9403a-b2fe-40a2-aa9d-c39f7db01052",
   "metadata": {},
   "source": [
    "---"
   ]
  },
  {
   "cell_type": "markdown",
   "id": "8f7cd874-15c2-4f7b-bfd6-198ddb2ac0d3",
   "metadata": {},
   "source": [
    "## Formulating the hypotheses"
   ]
  },
  {
   "cell_type": "markdown",
   "id": "2cb1d687-4349-4bf0-89df-275a8ea0ee11",
   "metadata": {},
   "source": [
    "**Null Hypothesis (H₀)**:\n",
    "The new payment mechanism has no statistically significant impact on user behaviour — there is no difference in key metrics (such as conversion to payment, average check, and revenue per user) between the control group (A) and the test group (B).\n",
    "\n",
    "**Alternative Hypothesis (H₁)**:\n",
    "The new payment mechanism has a statistically significant impact on user behaviour — there is a difference in key metrics (such as conversion to payment, average check, and revenue per user) between the control group (A) and the test group (B)."
   ]
  },
  {
   "cell_type": "markdown",
   "id": "4c319abd-2837-414f-a384-82b46a52d92c",
   "metadata": {},
   "source": [
    "---"
   ]
  },
  {
   "cell_type": "markdown",
   "id": "1d375c27-77a7-40a9-b3e6-ac748db74d85",
   "metadata": {},
   "source": [
    "## Loading the necessary DataFrames for further analysis"
   ]
  },
  {
   "cell_type": "code",
   "execution_count": 2,
   "id": "3990b66c-b78c-48db-bb70-6a94ba74c87a",
   "metadata": {},
   "outputs": [],
   "source": [
    "def load_all_data(groups_path='data/groups.csv', \n",
    "                  groups_add_path='data/groups_add.csv', \n",
    "                  checks_path='data/checks.csv', \n",
    "                  active_studs_path='data/active_studs.csv'):\n",
    "    try:\n",
    "        groups = pd.read_csv(groups_path, sep=';')\n",
    "        groups_add = pd.read_csv(groups_add_path)\n",
    "        checks = pd.read_csv(checks_path, sep=';')\n",
    "        active_studs = pd.read_csv(active_studs_path)\n",
    "        \n",
    "        groups.columns = ['student_id', 'group']\n",
    "        groups_add.columns = ['student_id', 'group']\n",
    "        checks.columns = ['student_id', 'revenue']\n",
    "    except Exception as e:\n",
    "        raise RuntimeError(f\"Error loading data: {e}\")\n",
    "    \n",
    "    return groups, groups_add, checks, active_studs"
   ]
  },
  {
   "cell_type": "code",
   "execution_count": 3,
   "id": "ca0931dc-182f-43b3-b9d1-de7578baa778",
   "metadata": {},
   "outputs": [],
   "source": [
    "groups, groups_add, checks, active_studs = load_all_data()"
   ]
  },
  {
   "cell_type": "markdown",
   "id": "c25128f1-ff45-49b8-9fd3-8fef53e44f58",
   "metadata": {},
   "source": [
    "---"
   ]
  },
  {
   "cell_type": "markdown",
   "id": "452f9f03-6b46-4625-beda-21fbdd64e378",
   "metadata": {},
   "source": [
    "## Merging the DataFrames into a single one"
   ]
  },
  {
   "cell_type": "code",
   "execution_count": 4,
   "id": "fd5e9af6-fb3c-4b75-94db-6931697b1979",
   "metadata": {},
   "outputs": [],
   "source": [
    "# Renaming the columns in the root DataFrame for consistency with other DFs and ease of use\n",
    "\n",
    "groups.columns = ['student_id', 'group']\n",
    "groups_add.columns = ['student_id', 'group']\n",
    "checks.columns = ['student_id', 'revenue']"
   ]
  },
  {
   "cell_type": "code",
   "execution_count": 5,
   "id": "deb17570-6358-4a32-aeef-bce2b3733a3f",
   "metadata": {},
   "outputs": [],
   "source": [
    "# Filtering to keep only active users\n",
    "\n",
    "groups_active = groups[groups['student_id'].isin(active_studs['student_id'])]"
   ]
  },
  {
   "cell_type": "code",
   "execution_count": 6,
   "id": "2b4ee70a-91ef-49d2-976f-375eec76e1ed",
   "metadata": {},
   "outputs": [
    {
     "name": "stdout",
     "output_type": "stream",
     "text": [
      "Users who paid but are not active: 149\n"
     ]
    }
   ],
   "source": [
    "# Checking: are there any paying but inactive ones?\n",
    "\n",
    "paid_not_active = checks[~checks['student_id'].isin(active_studs['student_id'])]\n",
    "print(f\"Users who paid but are not active: {len(paid_not_active)}\")"
   ]
  },
  {
   "cell_type": "code",
   "execution_count": 7,
   "id": "7a3455e0-5abd-4027-b566-f26710d026ac",
   "metadata": {},
   "outputs": [],
   "source": [
    "# Joining on student_id\n",
    "\n",
    "merged = groups_active.merge(checks, how='left', on='student_id')\n",
    "merged.revenue = merged.revenue.fillna(0)"
   ]
  },
  {
   "cell_type": "markdown",
   "id": "0fe07ecd-5af2-4261-8559-8f407da0ea42",
   "metadata": {},
   "source": [
    "---"
   ]
  },
  {
   "cell_type": "markdown",
   "id": "86326b34-531e-4faa-95ee-9a3e90a959a7",
   "metadata": {},
   "source": [
    "## Calculating the metrics"
   ]
  },
  {
   "cell_type": "markdown",
   "id": "4ae24370-61d2-4f06-b3a1-1ae8bdb800a3",
   "metadata": {},
   "source": [
    "**Process description**\n",
    "\n",
    "To evaluate the effectiveness of the new payment mechanic, I decided to focus on three key metrics: Conversion Rate (CR), Average Revenue Per User (ARPU), and Average Revenue Per Paying User (ARPPU).\n",
    " - **CR** helps assess how effectively users are converting from active status to paying customers.\n",
    " - **ARPU** gives an understanding of the overall revenue performance relative to the entire user base.\n",
    " - **ARPPU** isolates the analysis to only those who made a purchase, providing a clearer picture of spending behaviour.\n",
    "\n",
    "These metrics together offer a balanced view of both engagement and monetisation, allowing for an informed comparison between the control and test groups."
   ]
  },
  {
   "cell_type": "code",
   "execution_count": 8,
   "id": "e9ac20a6-b3e1-46b8-925b-6c1cf6f197e7",
   "metadata": {},
   "outputs": [],
   "source": [
    "# Grouping\n",
    "\n",
    "grouped = merged.groupby('group').agg(\n",
    "    users=('student_id', 'count'),\n",
    "    payers=('revenue', lambda x: (x > 0).sum()),\n",
    "    total_revenue=('revenue', 'sum')\n",
    ")"
   ]
  },
  {
   "cell_type": "code",
   "execution_count": 9,
   "id": "612186df-f48a-4e25-b1df-100cbaa9b983",
   "metadata": {
    "scrolled": true
   },
   "outputs": [
    {
     "data": {
      "text/html": [
       "<div>\n",
       "<style scoped>\n",
       "    .dataframe tbody tr th:only-of-type {\n",
       "        vertical-align: middle;\n",
       "    }\n",
       "\n",
       "    .dataframe tbody tr th {\n",
       "        vertical-align: top;\n",
       "    }\n",
       "\n",
       "    .dataframe thead th {\n",
       "        text-align: right;\n",
       "    }\n",
       "</style>\n",
       "<table border=\"1\" class=\"dataframe\">\n",
       "  <thead>\n",
       "    <tr style=\"text-align: right;\">\n",
       "      <th></th>\n",
       "      <th>users</th>\n",
       "      <th>payers</th>\n",
       "      <th>total_revenue</th>\n",
       "      <th>cr</th>\n",
       "      <th>arpu</th>\n",
       "      <th>arppu</th>\n",
       "    </tr>\n",
       "    <tr>\n",
       "      <th>group</th>\n",
       "      <th></th>\n",
       "      <th></th>\n",
       "      <th></th>\n",
       "      <th></th>\n",
       "      <th></th>\n",
       "      <th></th>\n",
       "    </tr>\n",
       "  </thead>\n",
       "  <tbody>\n",
       "    <tr>\n",
       "      <th>A</th>\n",
       "      <td>1535</td>\n",
       "      <td>78</td>\n",
       "      <td>72820.0000</td>\n",
       "      <td>0.050814</td>\n",
       "      <td>47.439739</td>\n",
       "      <td>933.589744</td>\n",
       "    </tr>\n",
       "    <tr>\n",
       "      <th>B</th>\n",
       "      <td>6793</td>\n",
       "      <td>313</td>\n",
       "      <td>393074.0035</td>\n",
       "      <td>0.046077</td>\n",
       "      <td>57.864567</td>\n",
       "      <td>1255.827487</td>\n",
       "    </tr>\n",
       "  </tbody>\n",
       "</table>\n",
       "</div>"
      ],
      "text/plain": [
       "       users  payers  total_revenue        cr       arpu        arppu\n",
       "group                                                                \n",
       "A       1535      78     72820.0000  0.050814  47.439739   933.589744\n",
       "B       6793     313    393074.0035  0.046077  57.864567  1255.827487"
      ]
     },
     "execution_count": 9,
     "metadata": {},
     "output_type": "execute_result"
    }
   ],
   "source": [
    "# Calculating the metrics\n",
    "\n",
    "grouped['cr'] = grouped['payers'] / grouped['users']\n",
    "grouped['arpu'] = grouped['total_revenue'] / grouped['users']\n",
    "grouped['arppu'] = grouped['total_revenue'] / grouped['payers']\n",
    "grouped"
   ]
  },
  {
   "cell_type": "markdown",
   "id": "4a9254ad-faf8-4786-bb91-490b8a08aa8e",
   "metadata": {},
   "source": [
    "---"
   ]
  },
  {
   "cell_type": "markdown",
   "id": "d9aae7ee-e8fb-4842-b9da-2420be60d75e",
   "metadata": {},
   "source": [
    "## Normality сheck before statistical testing"
   ]
  },
  {
   "cell_type": "markdown",
   "id": "19c68f8a-e449-4794-9fb1-4f58754b2ac4",
   "metadata": {},
   "source": [
    "**Process description**\n",
    "\n",
    "Before deciding which statistical test to apply for ARPU and ARPPU, it is essential to check whether the data follows a normal distribution. This step comes after calculating the metrics but before running the A/B tests. The choice between using a parametric test (like the t-test) or a non-parametric alternative (like the Mann–Whitney U test) depends on the outcome of this normality check."
   ]
  },
  {
   "cell_type": "code",
   "execution_count": 10,
   "id": "ceac7f48-c531-4c36-b3b9-3a1748c163cb",
   "metadata": {},
   "outputs": [
    {
     "data": {
      "image/png": "[encoded data removed]",
      "text/plain": [
       "<Figure size 1200x500 with 1 Axes>"
      ]
     },
     "metadata": {},
     "output_type": "display_data"
    },
    {
     "data": {
      "image/png": "[encoded data removed]",
      "text/plain": [
       "<Figure size 1200x500 with 1 Axes>"
      ]
     },
     "metadata": {},
     "output_type": "display_data"
    }
   ],
   "source": [
    "# ARPU\n",
    "plt.figure(figsize=(12, 5))\n",
    "sns.histplot(merged[merged['group'] == 'A']['revenue'], kde=True, label='Group A', color='skyblue')\n",
    "sns.histplot(merged[merged['group'] == 'B']['revenue'], kde=True, label='Group B', color='salmon')\n",
    "plt.title('ARPU Distribution')\n",
    "plt.legend()\n",
    "plt.show()\n",
    "\n",
    "# ARPPU\n",
    "plt.figure(figsize=(12, 5))\n",
    "sns.histplot(merged[(merged['group'] == 'A') & (merged['revenue'] > 0)]['revenue'], kde=True, label='Group A', color='skyblue')\n",
    "sns.histplot(merged[(merged['group'] == 'B') & (merged['revenue'] > 0)]['revenue'], kde=True, label='Group B', color='salmon')\n",
    "plt.title('ARPPU Distribution')\n",
    "plt.legend()\n",
    "plt.show()"
   ]
  },
  {
   "cell_type": "code",
   "execution_count": 11,
   "id": "b8e4c937-2372-43eb-b1c7-6858e205eb14",
   "metadata": {
    "scrolled": true
   },
   "outputs": [
    {
     "name": "stdout",
     "output_type": "stream",
     "text": [
      "Normality test for ARPU:\n",
      "Group A: NormaltestResult(statistic=2235.0038926868115, pvalue=0.0)\n",
      "Group B: NormaltestResult(statistic=7799.5839920248845, pvalue=0.0)\n",
      "\n",
      "Normality test for ARPPU:\n",
      "Group A: NormaltestResult(statistic=30.378419638487475, pvalue=2.5316868804220266e-07)\n",
      "Group B: NormaltestResult(statistic=7.022269699078301, pvalue=0.029863005181946005)\n"
     ]
    }
   ],
   "source": [
    "# ARPU\n",
    "arpu_A = merged[merged['group'] == 'A']['revenue']\n",
    "arpu_B = merged[merged['group'] == 'B']['revenue']\n",
    "\n",
    "print(\"Normality test for ARPU:\")\n",
    "print(\"Group A:\", normaltest(arpu_A))\n",
    "print(\"Group B:\", normaltest(arpu_B))\n",
    "\n",
    "# ARPPU\n",
    "arppu_A = merged[(merged['group'] == 'A') & (merged['revenue'] > 0)]['revenue']\n",
    "arppu_B = merged[(merged['group'] == 'B') & (merged['revenue'] > 0)]['revenue']\n",
    "\n",
    "print(\"\\nNormality test for ARPPU:\")\n",
    "print(\"Group A:\", normaltest(arppu_A))\n",
    "print(\"Group B:\", normaltest(arppu_B))"
   ]
  },
  {
   "cell_type": "markdown",
   "id": "dd3765ae-84f4-4ec0-aa98-5518b05b3c7c",
   "metadata": {},
   "source": [
    "**Interpretation of the normality test**\n",
    "\n",
    "**ARPU**:\n",
    " - Group A: p-value = 0.0\n",
    " - Group B: p-value = 0.0\n",
    "\n",
    "**ARPPU**:\n",
    " - Group A: p-value ≈ 2.5e-07\n",
    " - Group B: p-value ≈ 0.029\n",
    "\n",
    "**Conclusion**:\n",
    "\n",
    "In all cases, p-value < 0.05, which means:\n",
    " - The distribution is not normal.\n",
    " - **t-test cannot be used**, even for Group B in ARPPU, where p-value ≈ 0.029 — it’s still below the threshold."
   ]
  },
  {
   "cell_type": "code",
   "execution_count": 12,
   "id": "d0e6af2d-15f1-48e9-8596-55862d2a5c5b",
   "metadata": {},
   "outputs": [
    {
     "name": "stdout",
     "output_type": "stream",
     "text": [
      "Levene’s test for ARPU variances: p = 0.2328800964326769\n"
     ]
    }
   ],
   "source": [
    "stat_var_arpu, p_var_arpu = levene(\n",
    "    merged[merged['group'] == 'A']['revenue'],\n",
    "    merged[merged['group'] == 'B']['revenue']\n",
    ")\n",
    "print(f\"Levene’s test for ARPU variances: p = {p_var_arpu}\")"
   ]
  },
  {
   "cell_type": "markdown",
   "id": "d80b5eb8-c81d-4b75-8048-072a9dec30f8",
   "metadata": {},
   "source": [
    "**Note**:\n",
    "For completeness, a variance check (Levene’s test) was also performed.\n",
    "However, since the data is clearly not normally distributed (p-value ≈ 0), the result of the variance test does not affect the choice of method: t-tests are not applicable, and a non-parametric approach is used instead."
   ]
  },
  {
   "cell_type": "markdown",
   "id": "efb27117-9f56-405e-837d-af9d45d842b8",
   "metadata": {},
   "source": [
    "---"
   ]
  },
  {
   "cell_type": "markdown",
   "id": "61f3c216-81ba-4e91-a848-bda518c49a16",
   "metadata": {},
   "source": [
    "## A/B testing"
   ]
  },
  {
   "cell_type": "markdown",
   "id": "3f4d40ca-21de-44d9-921d-f7ac7d168e9f",
   "metadata": {},
   "source": [
    "**Process description**\n",
    "\n",
    "To evaluate the statistical significance of the observed differences between the control and test groups, we selected specific hypothesis tests based on the type and distribution of the metrics:\n",
    " - **Z-test for Conversion Rate (CR)**: Since CR is a proportion metric (number of payers divided by total users), a Z-test is appropriate for comparing proportions between two independent groups, especially with large sample sizes.\n",
    " - **Mann–Whitney U test for ARPU and ARPPU**: Normality tests showed that both ARPU and ARPPU distributions deviate from normality (p-value < 0.05). Therefore, instead of a t-test (which assumes normal distribution), we used the non-parametric Mann–Whitney U test, which is more robust in such cases and compares the medians of two independent samples."
   ]
  },
  {
   "cell_type": "code",
   "execution_count": 13,
   "id": "b02176af-380b-45b9-8757-26183a873a3a",
   "metadata": {},
   "outputs": [
    {
     "name": "stdout",
     "output_type": "stream",
     "text": [
      "z-stat = 0.7925, p-value = 0.4281\n"
     ]
    }
   ],
   "source": [
    "# Z-test for Conversion Rate (CR)\n",
    "\n",
    "n1 = grouped.loc['A', 'users']\n",
    "x1 = grouped.loc['A', 'payers']\n",
    "n2 = grouped.loc['B', 'users']\n",
    "x2 = grouped.loc['B', 'payers']\n",
    "\n",
    "z_stat, p_value = proportions_ztest(count=[x1, x2], nobs=[n1, n2])\n",
    "\n",
    "print(f'z-stat = {z_stat:.4f}, p-value = {p_value:.4f}')"
   ]
  },
  {
   "cell_type": "code",
   "execution_count": 14,
   "id": "204fc92a-8e33-46cd-9929-e7c9f8514635",
   "metadata": {},
   "outputs": [
    {
     "name": "stdout",
     "output_type": "stream",
     "text": [
      "KS-test for ARPU: statistic = 0.0142, p-value = 0.9592\n"
     ]
    }
   ],
   "source": [
    "# KS-test for ARPU\n",
    "\n",
    "arpu_A = merged[merged['group'] == 'A']['revenue']\n",
    "arpu_B = merged[merged['group'] == 'B']['revenue']\n",
    "\n",
    "stat_arpu, pval_arpu = ks_2samp(arpu_A, arpu_B)\n",
    "print(f'KS-test for ARPU: statistic = {stat_arpu:.4f}, p-value = {pval_arpu:.4f}')"
   ]
  },
  {
   "cell_type": "code",
   "execution_count": 15,
   "id": "82474fe8-18ea-4afe-bb36-9f8e01aaaa42",
   "metadata": {},
   "outputs": [
    {
     "name": "stdout",
     "output_type": "stream",
     "text": [
      "KS-test for ARPPU: statistic = 0.3222, p-value = 0.0000\n"
     ]
    }
   ],
   "source": [
    "# KS-test for ARPPU\n",
    "\n",
    "arppu_A = merged[(merged['group'] == 'A') & (merged['revenue'] > 0)]['revenue']\n",
    "arppu_B = merged[(merged['group'] == 'B') & (merged['revenue'] > 0)]['revenue']\n",
    "\n",
    "stat_arppu, pval_arppu = ks_2samp(arppu_A, arppu_B)\n",
    "print(f'KS-test for ARPPU: statistic = {stat_arppu:.4f}, p-value = {pval_arppu:.4f}')"
   ]
  },
  {
   "cell_type": "markdown",
   "id": "e2280312-c872-4f47-b555-b64dc7538e00",
   "metadata": {},
   "source": [
    "**Interpretation of A/B test results**\n",
    "\n",
    "**Conversion Rate (share of paying users)**\n",
    " - p-value = 0.4281 — no statistically significant difference\n",
    " - Conclusion: the new payment mechanic did not impact the share of paying users\n",
    "\n",
    "**ARPU (Average Revenue Per User)**\n",
    " - p-value = 0.9592 — no statistically significant difference\n",
    " - Conclusion: the average revenue per user remained unchanged\n",
    "\n",
    "**ARPPU (Average Revenue Per Paying User)**\n",
    " - p-value = 0.0000 — **statistically significant difference**\n",
    " - Conclusion: paying users in the test group started spending more"
   ]
  },
  {
   "cell_type": "markdown",
   "id": "a889ceb2-ab49-465e-bd2b-39b90c657d25",
   "metadata": {},
   "source": [
    "---"
   ]
  },
  {
   "cell_type": "markdown",
   "id": "b6e1d284-07e8-48d6-b9f3-8d1a94948efb",
   "metadata": {},
   "source": [
    "## Final conclusion: Should the new payment mechanic be scaled?"
   ]
  },
  {
   "cell_type": "markdown",
   "id": "0804fbcb-3e70-4746-b728-dc5ab7d69635",
   "metadata": {},
   "source": [
    "The new payment mechanic **did not lead to an increase** in:\n",
    " - the share of paying users,\n",
    " - the average revenue per user.\n",
    "\n",
    "However, it **significantly increased the average revenue per paying user (ARPPU)**, which may be valuable if the goal is to maximise revenue from active paying users, this mechanic can be scaled — especially within segments with a high probability of purchase. Otherwise, it’s advisable to test it more selectively or combine it with other initiatives."
   ]
  },
  {
   "cell_type": "markdown",
   "id": "a3cd7a1b-423a-474b-8a3d-84d460925022",
   "metadata": {},
   "source": [
    "---"
   ]
  },
  {
   "cell_type": "markdown",
   "id": "964da355-63c2-444b-ab83-a3a77a51906d",
   "metadata": {},
   "source": [
    "## Post-experiment update: Adding late user group & refreshing metrics"
   ]
  },
  {
   "cell_type": "markdown",
   "id": "fcbfd2ab-0bb9-4982-9af3-f51caa4187c7",
   "metadata": {},
   "source": [
    "**Process description**\n",
    "\n",
    "Two days after the experiment, an additional file (**groups_add.csv**) was received, containing a supplementary batch of users with assigned groups.\n",
    "\n",
    "Although this data arrived after the main experiment analysis was completed, it’s important to recalculate key product metrics (CR, ARPU, ARPPU) using the extended dataset — not for statistical comparison, but for monitoring and operational insight.\n",
    "\n",
    "In this section:\n",
    " - We merge the late-arriving user data (**groups_add.csv**) with the original group assignment file.\n",
    " - We recalculate all key metrics (CR, ARPU, ARPPU) using the extended user base.\n",
    " - We visualise the updated results via bar charts for a clearer understanding of current performance.\n",
    " - Importantly, we encapsulate the entire logic in a reusable function, designed to handle such future cases — when experiments evolve and new users arrive after the main analysis has been performed.\n",
    "\n",
    "**Note**: This step does not involve A/B testing. No hypothesis testing is performed. The focus is purely on metric recalculation and visualisation using the extended dataset."
   ]
  },
  {
   "cell_type": "code",
   "execution_count": 16,
   "id": "126cd29d-6c79-4914-b282-149e6585b7d4",
   "metadata": {},
   "outputs": [],
   "source": [
    "# Encapsulating the metric recalculation logic into a reusable function\n",
    "\n",
    "def recalculate_metrics(groups, groups_add, active_studs, checks):\n",
    "    # Concating the groups\n",
    "    \n",
    "    all_groups = pd.concat([groups, groups_add])\n",
    "    \n",
    "    # Merging with active students\n",
    "    \n",
    "    groups_active = all_groups[all_groups['student_id'].isin(active_studs['student_id'])]\n",
    "    \n",
    "    # Merging with checks\n",
    "    \n",
    "    merged = groups_active.merge(checks, how='left', on='student_id')\n",
    "    merged.revenue = merged.revenue.fillna(0)\n",
    "\n",
    "    # Grouping and calculating metrics\n",
    "    \n",
    "    grouped = merged.groupby('group').agg(\n",
    "        users=('student_id', 'count'),\n",
    "        payers=('revenue', lambda x: (x > 0).sum()),\n",
    "        total_revenue=('revenue', 'sum')\n",
    "    )\n",
    "    grouped['cr'] = grouped['payers'] / grouped['users']\n",
    "    grouped['arpu'] = grouped['total_revenue'] / grouped['users']\n",
    "    grouped['arppu'] = grouped['total_revenue'] / grouped['payers']\n",
    "\n",
    "    return grouped"
   ]
  },
  {
   "cell_type": "code",
   "execution_count": 17,
   "id": "781b32fd-e883-4d9f-be76-bcfc0e2abefd",
   "metadata": {},
   "outputs": [
    {
     "data": {
      "text/html": [
       "<div>\n",
       "<style scoped>\n",
       "    .dataframe tbody tr th:only-of-type {\n",
       "        vertical-align: middle;\n",
       "    }\n",
       "\n",
       "    .dataframe tbody tr th {\n",
       "        vertical-align: top;\n",
       "    }\n",
       "\n",
       "    .dataframe thead th {\n",
       "        text-align: right;\n",
       "    }\n",
       "</style>\n",
       "<table border=\"1\" class=\"dataframe\">\n",
       "  <thead>\n",
       "    <tr style=\"text-align: right;\">\n",
       "      <th></th>\n",
       "      <th>users</th>\n",
       "      <th>payers</th>\n",
       "      <th>total_revenue</th>\n",
       "      <th>cr</th>\n",
       "      <th>arpu</th>\n",
       "      <th>arppu</th>\n",
       "    </tr>\n",
       "    <tr>\n",
       "      <th>group</th>\n",
       "      <th></th>\n",
       "      <th></th>\n",
       "      <th></th>\n",
       "      <th></th>\n",
       "      <th></th>\n",
       "      <th></th>\n",
       "    </tr>\n",
       "  </thead>\n",
       "  <tbody>\n",
       "    <tr>\n",
       "      <th>A</th>\n",
       "      <td>1538</td>\n",
       "      <td>78</td>\n",
       "      <td>72820.0000</td>\n",
       "      <td>0.050715</td>\n",
       "      <td>47.347204</td>\n",
       "      <td>933.589744</td>\n",
       "    </tr>\n",
       "    <tr>\n",
       "      <th>B</th>\n",
       "      <td>6803</td>\n",
       "      <td>314</td>\n",
       "      <td>394974.0035</td>\n",
       "      <td>0.046156</td>\n",
       "      <td>58.058798</td>\n",
       "      <td>1257.878992</td>\n",
       "    </tr>\n",
       "  </tbody>\n",
       "</table>\n",
       "</div>"
      ],
      "text/plain": [
       "       users  payers  total_revenue        cr       arpu        arppu\n",
       "group                                                                \n",
       "A       1538      78     72820.0000  0.050715  47.347204   933.589744\n",
       "B       6803     314    394974.0035  0.046156  58.058798  1257.878992"
      ]
     },
     "execution_count": 17,
     "metadata": {},
     "output_type": "execute_result"
    }
   ],
   "source": [
    "recalculate_metrics(groups, groups_add, active_studs, checks)"
   ]
  },
  {
   "cell_type": "code",
   "execution_count": 18,
   "id": "7bc38bd2-8732-458d-b618-772e199baa9f",
   "metadata": {},
   "outputs": [],
   "source": [
    "# Graphs building\n",
    "\n",
    "def plot_metrics(grouped):\n",
    "    # Plot configuration\n",
    "    \n",
    "    sns.set(style=\"whitegrid\")\n",
    "    metrics = ['cr', 'arpu', 'arppu']\n",
    "    titles = [\n",
    "        'Conversion Rate (CR)',\n",
    "        'ARPU (Average Revenue Per User)',\n",
    "        'ARPPU (Average Revenue Per Paying User)'\n",
    "    ]\n",
    "    colors = ['lightgreen', 'skyblue', 'salmon']\n",
    "\n",
    "    plt.figure(figsize=(18, 5))\n",
    "\n",
    "    for i, metric in enumerate(metrics):\n",
    "        plt.subplot(1, 3, i + 1)\n",
    "        sns.barplot(x=grouped.index, y=grouped[metric].values, color=colors[i])\n",
    "        plt.title(titles[i])\n",
    "        plt.ylabel(metric.upper())\n",
    "        plt.xlabel('Group')\n",
    "\n",
    "    plt.tight_layout()\n",
    "    plt.show()"
   ]
  },
  {
   "cell_type": "code",
   "execution_count": 19,
   "id": "2686dded-57ef-4225-9d23-eb9f7144ac45",
   "metadata": {},
   "outputs": [
    {
     "data": {
      "image/png": "[encoded data removed]",
      "text/plain": [
       "<Figure size 1800x500 with 3 Axes>"
      ]
     },
     "metadata": {},
     "output_type": "display_data"
    }
   ],
   "source": [
    "grouped = recalculate_metrics(groups, groups_add, active_studs, checks)\n",
    "plot_metrics(grouped)"
   ]
  },
  {
   "cell_type": "markdown",
   "id": "7d51e005-0973-4a7b-be84-9ecc97b211f3",
   "metadata": {},
   "source": [
    "---"
   ]
  },
  {
   "cell_type": "markdown",
   "id": "b2721980-103d-4311-bdf9-ef2675d1f9e3",
   "metadata": {},
   "source": [
    "## Summary"
   ]
  },
  {
   "cell_type": "markdown",
   "id": "ba5a1987-ef19-4b6b-9bcb-d10b41539fb3",
   "metadata": {},
   "source": [
    "In this project, we conducted a comprehensive A/B test to evaluate the impact of a new payment mechanism on user behaviour. We analysed the differences between control and test groups using core metrics such as Conversion Rate (CR), Average Revenue Per User (ARPU), and Average Revenue Per Paying User (ARPPU). Based on the statistical tests (Z-test and Mann–Whitney U), we concluded that the new mechanic did not significantly affect the number of paying users or average revenue per user. However, it did result in a significant increase in revenue from paying users, suggesting a potential for monetisation improvements within targeted segments.\n",
    "\n",
    "In the final section, we simulated a scenario where additional user data became available post-experiment. To address this, we designed a reusable function that recalculates metrics by dynamically merging new inputs into the existing pipeline. This approach ensures scalability of the analysis framework and enables accurate tracking of performance when external data updates are introduced after the main evaluation phase.\n",
    "\n",
    "The project demonstrates the importance of well-structured metric pipelines and hypothesis-driven experimentation when validating product improvements in a real-world data environment."
   ]
  }
 ],
 "metadata": {
  "kernelspec": {
   "display_name": "Python 3 (ipykernel)",
   "language": "python",
   "name": "python3"
  },
  "language_info": {
   "codemirror_mode": {
    "name": "ipython",
    "version": 3
   },
   "file_extension": ".py",
   "mimetype": "text/x-python",
   "name": "python",
   "nbconvert_exporter": "python",
   "pygments_lexer": "ipython3",
   "version": "3.12.2"
  }
 },
 "nbformat": 4,
 "nbformat_minor": 5
}
